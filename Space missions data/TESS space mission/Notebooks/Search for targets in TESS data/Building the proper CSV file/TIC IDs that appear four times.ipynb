{
 "cells": [
  {
   "cell_type": "markdown",
   "metadata": {},
   "source": [
    "This script searches through all the CSV files in the current working directory and compares the values in each column between the files. The user is prompted to select one file as the \"main\" file to search in. Then, the script checks how many times each unique value in each column of the main file appears in the other files. If a value appears four times, it is added to a new DataFrame, which is then written to a new CSV file named \"Sectorxx - four.csv\", where xx is the number of the sector you search. At the end, the script prints out the elapsed time of the script."
   ]
  },
  {
   "cell_type": "code",
   "execution_count": 3,
   "metadata": {},
   "outputs": [
    {
     "name": "stdout",
     "output_type": "stream",
     "text": [
      "1. S012.csv\n",
      "2. S004.csv\n",
      "3. S017.csv\n",
      "4. S015.csv\n",
      "5. S045.csv\n",
      "6. S007.csv\n",
      "7. S056.csv\n",
      "8. S005.csv\n",
      "9. S019.csv\n",
      "10. S028.csv\n",
      "11. S022.csv\n",
      "12. S010.csv\n",
      "13. S014.csv\n",
      "14. S035.csv\n",
      "15. S032.csv\n",
      "16. S016.csv\n",
      "17. S044.csv\n",
      "18. S001.csv\n",
      "19. S009.csv\n",
      "20. S036.csv\n",
      "21. S006.csv\n",
      "22. S011.csv\n",
      "23. S023.csv\n",
      "24. S025.csv\n",
      "25. S037.csv\n",
      "26. S039.csv\n",
      "27. S050.csv\n",
      "28. S047.csv\n",
      "29. S029.csv\n",
      "30. S020.csv\n",
      "31. S021.csv\n",
      "32. S053.csv\n",
      "33. S031.csv\n",
      "34. S038.csv\n",
      "35. S041.csv\n",
      "36. S049.csv\n",
      "37. S060.csv\n",
      "38. S055.csv\n",
      "39. S057.csv\n",
      "40. S024.csv\n",
      "41. S048.csv\n",
      "42. S002.csv\n",
      "43. S033.csv\n",
      "44. S040.csv\n",
      "45. S043.csv\n",
      "46. S018.csv\n",
      "47. S058.csv\n",
      "48. S034.csv\n",
      "49. S042.csv\n",
      "50. S008.csv\n",
      "51. S013.csv\n",
      "52. S030.csv\n",
      "53. S046.csv\n",
      "54. S027.csv\n",
      "55. S003.csv\n",
      "56. S054.csv\n",
      "57. S052.csv\n",
      "58. S059.csv\n",
      "59. S051.csv\n",
      "60. S026.csv\n",
      "Please select the file you want to search in by entering its corresponding number: 39\n",
      "Time elapsed:  1709.9634487628937\n"
     ]
    }
   ],
   "source": [
    "#Check all TIC IDs in a CSV file of your choice\n",
    "#compare them with the TICIDs from all the other CSV files in the same folder\n",
    "#and save the TICIDs that appear only four times in other files, in a new CSV file\n",
    "\n",
    "import os\n",
    "import pandas as pd\n",
    "import time\n",
    "\n",
    "start_time = time.time()\n",
    "\n",
    "\n",
    "def search_and_compare_values():\n",
    "    files = [f for f in os.listdir() if f.endswith('.csv')]\n",
    "    for i, file in enumerate(files):\n",
    "        print(f'{i+1}. {file}')\n",
    "    main_file_index = int(input('Please select the file you want to search in by entering its corresponding number: ')) - 1\n",
    "    main_file_name = files[main_file_index]\n",
    "    df_main = pd.read_csv(main_file_name)\n",
    "    new_file_data = []\n",
    "    for column in df_main.columns:\n",
    "        for value in df_main[column].unique():\n",
    "            count = 0\n",
    "            for file_name in files:\n",
    "                if file_name != main_file_name:\n",
    "                    df = pd.read_csv(file_name)\n",
    "                    if value in df[column].values:\n",
    "                        count += 1\n",
    "            if count == 4:\n",
    "                new_file_data.append({'TICID': value})\n",
    "    new_file_df = pd.DataFrame(new_file_data)\n",
    "    new_file_df.to_csv('Sectorxx - four.csv', index=False)\n",
    "\n",
    "search_and_compare_values()\n",
    "\n",
    "\n",
    "\n",
    "end_time = time.time()\n",
    "elapsed_time = end_time - start_time\n",
    "print(\"Time elapsed: \", elapsed_time)\n"
   ]
  },
  {
   "cell_type": "code",
   "execution_count": null,
   "metadata": {},
   "outputs": [],
   "source": []
  }
 ],
 "metadata": {
  "colab": {
   "name": "TESS Candidate transit download.ipynb",
   "provenance": []
  },
  "kernelspec": {
   "display_name": "Python 3 (ipykernel)",
   "language": "python",
   "name": "python3"
  },
  "language_info": {
   "codemirror_mode": {
    "name": "ipython",
    "version": 3
   },
   "file_extension": ".py",
   "mimetype": "text/x-python",
   "name": "python",
   "nbconvert_exporter": "python",
   "pygments_lexer": "ipython3",
   "version": "3.8.10"
  }
 },
 "nbformat": 4,
 "nbformat_minor": 1
}
